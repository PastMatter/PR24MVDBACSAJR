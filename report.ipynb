{
 "cells": [
  {
   "cell_type": "markdown",
   "id": "11ec4970-ea6e-44be-82a4-58841bb9f796",
   "metadata": {},
   "source": [
    "# AI Bot: Teaching model to play like Magnus Carlsen"
   ]
  },
  {
   "cell_type": "markdown",
   "id": "c9dca3a7-af24-41ea-aeb2-8af0525f2fb8",
   "metadata": {},
   "source": [
    "<b>Overview</b> <br>\n",
    "The project involves building a neural network-based AI that plays chess, with the goal of mimicking the playing style of Magnus Carlsen. The AI is trained on data extracted from games played by Magnus Carlsen, with the evaluation of positions performed by the Stockfish chess engine. The project uses TensorFlow for training the neural networks and employs a phased approach, training separate models for different stages of the game: opening, postopening, middlegame, postmiddlegame, and endgame.unctions."
   ]
  },
  {
   "cell_type": "markdown",
   "id": "d92a1db8-b351-487e-a128-76f8d1e56132",
   "metadata": {},
   "source": [
    "<b>Data Preparation</b> <br>\n",
    "The data used for training the models is sourced from a PGN (Portable Game Notation) file containing games played by Magnus Carlsen. The parse_pgn function reads the PGN file and extracts chess positions (in FEN format) and their evaluations from Stockfish. Each position is annotated with the corresponding phase of the game and the best move. This information is saved in a CSV file for further use. The phases are determined based on the ply count (half-moves) of the game, with each phase representing a specific segment of a game.  "
   ]
  },
  {
   "cell_type": "markdown",
   "id": "74d392b5-e732-44a7-a424-76d52543a61f",
   "metadata": {},
   "source": [
    "<b>Data Encoding</b>\n",
    "<br>\n",
    "To make the data suitable for training a neural network, the chess board positions are encoded into a numerical format. The encode_board function converts a FEN string into a one-hot encoded matrix, where each piece type (including empty squares) is represented by a unique binary vector. This encoding captures the spatial configuration of pieces on the board, which is essential for the neural network to learn and make predictions.  <br>"
   ]
  },
  {
   "cell_type": "markdown",
   "id": "dcbfad76-8898-43f8-8b21-008668310161",
   "metadata": {},
   "source": [
    "<b>Training the Models</b> <br>\n",
    "The project involves training five separate models, each corresponding to a different phase of the game. This phased approach is employed because the nature of the game changes significantly from the opening to the endgame, and a single model might not effectively capture the nuances of each phase. For each phase, the dataset is split into training and validation sets, and a neural network model is built and trained using these sets. The models are relatively simple, consisting of a flattening layer followed by dense layers with ReLU activation functions. This can be changed for better results but \n",
    "for our purposes this was enough (adding more layers with more neurons)<br>"
   ]
  },
  {
   "cell_type": "markdown",
   "id": "00681193-ec95-41fd-8aa1-823bee534ad9",
   "metadata": {},
   "source": [
    "<b> Examples of data fed to a model</b> <br>\n",
    "Since we explaind basic stuff for this project let's dive a little deeper. What we are actually feeding the model is multidimensional\n",
    "vector. <br>\n",
    "For example: <br>\n",
    "Each piece has it's own index: <br>\n",
    "<blockquote>rnbqkpRNBQKP.</blockquote> <br>\n",
    "Small letters represent white pieces and capital black pieces. Dot at the end means that that square on board is empty. So now each piece has it's own index which is great since the board in csv file is presented in fen notation. We do this for each square on board and we will end up with 64x13 matrix\n",
    "(64 squares on board and 13 posibilities for pieces including empty square). <br>\n",
    "So if there is white rook that we encounter the outpu will be like this: <br>\n",
    "<blockquote>[1, 0, 0, ... , 0]</blockquote> "
   ]
  },
  {
   "cell_type": "markdown",
   "id": "336f571a-59ec-4e1e-a9c0-dc66d1bc15d7",
   "metadata": {},
   "source": [
    "This is the csv file used for teaching the model:"
   ]
  },
  {
   "cell_type": "markdown",
   "id": "e5f64f2e-840b-4f34-8b2e-821e59b06e0b",
   "metadata": {},
   "source": [
    "<blockquote>\n",
    "    id,board,black_score,best_move,phase\n",
    "    0,rnbqkbnr/pppppppp/8/8/8/8/PPPPPPPP/RNBQKBNR w KQkq - 0 1,-31,d2d4,opening\n",
    "    1,rnbqkbnr/pppppppp/8/8/3P4/8/PPP1PPPP/RNBQKBNR b KQkq - 0 1,-31,g8f6,opening\n",
    "    2,rnbqkb1r/pppppppp/5n2/8/3P4/8/PPP1PPPP/RNBQKBNR w KQkq - 1 2,-33,g1f3,opening\n",
    "    3,rnbqkb1r/pppppppp/5n2/8/3P4/5N2/PPP1PPPP/RNBQKB1R b KQkq - 2 2,-24,d7d5,opening\n",
    "    4,rnbqkb1r/ppp1pppp/5n2/3p4/3P4/5N2/PPP1PPPP/RNBQKB1R w KQkq - 0 3,-21,e2e3,opening\n",
    "    5,rnbqkb1r/ppp1pppp/5n2/3p4/3P4/4PN2/PPP2PPP/RNBQKB1R b KQkq - 0 3,-12,c8f5,opening\n",
    "    6,rn1qkb1r/ppp1pppp/5n2/3p1b2/3P4/4PN2/PPP2PPP/RNBQKB1R w KQkq - 1 4,-19,c2c4,opening\n",
    "    7,rn1qkb1r/ppp1pppp/5n2/3p1b2/2PP4/4PN2/PP3PPP/RNBQKB1R b KQkq - 0 4,-17,c7c6,opening\n",
    "</blockquote> "
   ]
  },
  {
   "cell_type": "markdown",
   "id": "47c61c32-b4a5-4ce8-8711-9f82ecb43a81",
   "metadata": {},
   "source": [
    "<b>Problems and possible solutions</b> <br>\n",
    "The main problem of this model was that it was not thinking ahead like humans usually do or engines. It was only fixed on current position\n",
    "and did not think what is going to happen after few moves. So in order to make him think ahead and ignore stupid moves that he thinks are good\n",
    "we had to 'play' tha move he thinks is the best and then analyze the postion again and see if he is missing something. This does not fix the problem \n",
    "completly but removes some big mistakes that can happen. "
   ]
  },
  {
   "cell_type": "markdown",
   "id": "49a08018-7141-428d-9649-244fba7e8c57",
   "metadata": {},
   "source": [
    "<b>Scripts and csv used for this project:</b> <br>\n",
    "5phases_model.py (For better result you can add more layers to models and more neurons)<br>\n",
    "posiitons.csv (NOTE: this is not the whole data used for training the model-original one was too bit to uplaod to git) <br>\n",
    "To get the actual data use script sorting_data.py combined with Carlsen.pgn file. (NOTE: this takes some time since original positions.csv had 400 000 lines)"
   ]
  },
  {
   "cell_type": "markdown",
   "id": "78c526f5-e87c-427b-ad9c-596fc38109cf",
   "metadata": {},
   "source": [
    "# Elo Rating and Age Correlation: Analyzing the Impact of Age on Chess Performance"
   ]
  },
  {
   "cell_type": "markdown",
   "id": "b0e4d7c5-550b-4bc2-926e-83376c933ab6",
   "metadata": {},
   "source": [
    "The relationship between age and performance in chess has long intrigued enthusiasts and researchers alike. One of the most prominent metrics for evaluating a player's skill level in chess is the Elo rating system, developed by Arpad Elo. Elo ratings offer a standardized method to compare players' proficiency, dynamically updating based on their game outcomes. By analyzing the correlation between players' ages and their Elo ratings, we can gain valuable insights into how age impacts performance, identifying trends such as peak performance ages and the typical career lifespan of top players."
   ]
  },
  {
   "cell_type": "markdown",
   "id": "a8c4d380-3053-4e11-95b6-03353343f68c",
   "metadata": {},
   "source": [
    "<b>Code Overview</b> <br>\r\n",
    "The provided code performs an analysis of the correlation between chess players' ages and their Elo ratings. The process includes data preparation, visualization, correlation analysis, and polynomial regression to explore the relationship between age and performance."
   ]
  },
  {
   "cell_type": "markdown",
   "id": "086d8283-2c00-4cfc-95eb-77b84cdb4656",
   "metadata": {},
   "source": [
    "The data is read from a CSV file containing chess players' rankings from 1851 to 2001. The pd.read_csv function reads the data, handling potential encoding issues. The 'Age' column is converted to numeric, and rows with missing values in either 'Age' or 'Rating' are dropped to ensure clean data for analysis."
   ]
  },
  {
   "cell_type": "markdown",
   "id": "4023dd48-56d3-45a4-877c-6bf2cd3e3998",
   "metadata": {},
   "source": [
    "```Python\n",
    "# Correlation analysis\r\n",
    "correlation, _ = pearsonr(data_df['Age'], data_df['Rating'])\r\n",
    "print(f\"Correlation between age and Elo rating: {correlation:.2f})e> de>"
   ]
  },
  {
   "cell_type": "markdown",
   "id": "59fb018b-f25c-4aa6-a972-72e987c73c29",
   "metadata": {},
   "source": [
    "The Pearson correlation coefficient is calculated to quantify the strength and direction of the relationship between age and Elo rating. A correlation coefficient close to 0 suggests a weak or no linear relationship."
   ]
  },
  {
   "cell_type": "markdown",
   "id": "27a2cc35-c434-4793-947b-7c978682ec1e",
   "metadata": {},
   "source": [
    "```Python\n",
    "# Regression analysis with polynomial features\n",
    "X = data_df['Age'].values.reshape(-1, 1)\n",
    "y = data_df['Rating'].values\n",
    "\n",
    "# Transforming features to polynomial\n",
    "poly = PolynomialFeatures(degree=2)\n",
    "X_poly = poly.fit_transform(X)\n",
    "\n",
    "# Fitting polynomial regression model\n",
    "model = LinearRegression()\n",
    "model.fit(X_poly, y)\n",
    "\n",
    "# Predicting Elo ratings\n",
    "predictions = model.predict(X_poly)\n",
    "\n",
    "# Plotting the results\n",
    "plt.figure(figsize=(10, 6))\n",
    "plt.scatter(data_df['Age'], data_df['Rating'], alpha=0.5, marker='.')\n",
    "plt.plot(X, predictions, color='red', linewidth=2)\n",
    "plt.xlabel('Age')\n",
    "plt.ylabel('Elo Rating')\n",
    "plt.title('Elo Rating vs. Age with Polynomial Regression')\n",
    "plt.grid(True)\n",
    "plt.show()\n"
   ]
  },
  {
   "cell_type": "markdown",
   "id": "772cbb3f-635a-4572-9195-b9f098ba9465",
   "metadata": {},
   "source": [
    "Polynomial regression is used to model the relationship between age and Elo rating. The PolynomialFeatures class from sklearn.preprocessing transforms the age data into polynomial features, and LinearRegression fits a polynomial model to the data. The predicted ratings are then plotted against the actual data, showing the fitted polynomial curve."
   ]
  },
  {
   "cell_type": "markdown",
   "id": "2dba70a0-8e08-4c85-aa88-f450e4d430a3",
   "metadata": {},
   "source": [
    "<b>Scripts and data used:</b> <br>\n",
    "elo_studies.ipynb <br>\n",
    "ranking_chessplayers_1851_2001.csv"
   ]
  }
 ],
 "metadata": {
  "kernelspec": {
   "display_name": "Python 3 (ipykernel)",
   "language": "python",
   "name": "python3"
  },
  "language_info": {
   "codemirror_mode": {
    "name": "ipython",
    "version": 3
   },
   "file_extension": ".py",
   "mimetype": "text/x-python",
   "name": "python",
   "nbconvert_exporter": "python",
   "pygments_lexer": "ipython3",
   "version": "3.11.7"
  }
 },
 "nbformat": 4,
 "nbformat_minor": 5
}
