{
 "cells": [
  {
   "cell_type": "markdown",
   "id": "11ec4970-ea6e-44be-82a4-58841bb9f796",
   "metadata": {},
   "source": [
    "# AI Bot: Teaching model to play like Magnus Carlsen"
   ]
  },
  {
   "cell_type": "markdown",
   "id": "c9dca3a7-af24-41ea-aeb2-8af0525f2fb8",
   "metadata": {},
   "source": [
    "<b>Overview</b> <br>\n",
    "The project involves building a neural network-based AI that plays chess, with the goal of mimicking the playing style of Magnus Carlsen. The AI is trained on data extracted from games played by Magnus Carlsen, with the evaluation of positions performed by the Stockfish chess engine. The project uses TensorFlow for training the neural networks and employs a phased approach, training separate models for different stages of the game: opening, postopening, middlegame, postmiddlegame, and endgame.unctions."
   ]
  },
  {
   "cell_type": "markdown",
   "id": "d92a1db8-b351-487e-a128-76f8d1e56132",
   "metadata": {},
   "source": [
    "<b>Data Preparation</b> <br>\n",
    "The data used for training the models is sourced from a PGN (Portable Game Notation) file containing games played by Magnus Carlsen. The parse_pgn function reads the PGN file and extracts chess positions (in FEN format) and their evaluations from Stockfish. Each position is annotated with the corresponding phase of the game and the best move. This information is saved in a CSV file for further use. The phases are determined based on the ply count (half-moves) of the game, with each phase representing a specific segment of a game.  "
   ]
  },
  {
   "cell_type": "markdown",
   "id": "74d392b5-e732-44a7-a424-76d52543a61f",
   "metadata": {},
   "source": [
    "<b>Data Encoding</b>\n",
    "<br>\n",
    "To make the data suitable for training a neural network, the chess board positions are encoded into a numerical format. The encode_board function converts a FEN string into a one-hot encoded matrix, where each piece type (including empty squares) is represented by a unique binary vector. This encoding captures the spatial configuration of pieces on the board, which is essential for the neural network to learn and make predictions.  <br>"
   ]
  },
  {
   "cell_type": "markdown",
   "id": "dcbfad76-8898-43f8-8b21-008668310161",
   "metadata": {},
   "source": [
    "<b>Training the Models</b> <br>\n",
    "The project involves training five separate models, each corresponding to a different phase of the game. This phased approach is employed because the nature of the game changes significantly from the opening to the endgame, and a single model might not effectively capture the nuances of each phase. For each phase, the dataset is split into training and validation sets, and a neural network model is built and trained using these sets. The models are relatively simple, consisting of a flattening layer followed by dense layers with ReLU activation functions. This can be changed for better results but \n",
    "for our purposes this was enough (adding more layers with more neurons)<br>"
   ]
  },
  {
   "cell_type": "markdown",
   "id": "00681193-ec95-41fd-8aa1-823bee534ad9",
   "metadata": {},
   "source": [
    "<b> Examples of data fed to a model</b> <br>\n",
    "Since we explaind basic stuff for this project let's dive a little deeper. What we are actually feeding the model is matrix. <br>\n",
    "For example: <br>\n",
    "Each piece has it's own index: <br>\n",
    "<blockquote>rnbqkpRNBQKP.</blockquote> <br>\n",
    "Small letters represent white pieces and capital black pieces. Dot at the end means that that square on board is empty. So now each piece has it's own index which is great since the board in csv file is presented in fen notation. We do this for each square on board and we will end up with 64x13 matrix\n",
    "(64 squares on board and 13 posibilities for pieces including empty square). <br>\n",
    "So if there is white rook that we encounter the outpu will be like this: <br>\n",
    "<blockquote>[1, 0, 0, ... , 0]</blockquote> "
   ]
  },
  {
   "cell_type": "markdown",
   "id": "47c61c32-b4a5-4ce8-8711-9f82ecb43a81",
   "metadata": {},
   "source": [
    "<b>Problems and possible solutions</b> <br>\n",
    "The main problem of this model was that it was not thinking ahead like humans usually do or engines. It was only fixed on current position\n",
    "and did not think what is going to happen after few moves. So in order to make him think ahead and ignore stupid moves that he thinks are good\n",
    "we had to 'play' tha move he thinks is the best and then analyze the postion again and see if he is missing something. This does not fix the problem \n",
    "completly but removes some big mistakes that can happen. "
   ]
  },
  {
   "cell_type": "markdown",
   "id": "49a08018-7141-428d-9649-244fba7e8c57",
   "metadata": {},
   "source": [
    "<b>Scripts and csv used for this project:</b> <br>\n",
    "[AI_model](https://github.com/PastMatter/PR24MVDBACSAJR/tree/main/Ai_model) <br>\n",
    "5phases_model.py (For better result you can add more layers to models and more neurons)<br>\n",
    "positions.csv (NOTE: this is not the whole data used for training the model-original one was too bit to uplaod to git) <br>\n",
    "To get the actual data use script sorting_data.py combined with Carlsen.pgn file. (NOTE: this takes some time since original positions.csv had 400 000 lines)"
   ]
  },
  {
   "cell_type": "markdown",
   "id": "78c526f5-e87c-427b-ad9c-596fc38109cf",
   "metadata": {},
   "source": [
    "# Elo Rating and Age Correlation: Analyzing the Impact of Age on Chess Performance"
   ]
  },
  {
   "cell_type": "markdown",
   "id": "b0e4d7c5-550b-4bc2-926e-83376c933ab6",
   "metadata": {},
   "source": [
    "The relationship between age and performance in chess has long intrigued enthusiasts and researchers alike. One of the most prominent metrics for evaluating a player's skill level in chess is the Elo rating system, developed by Arpad Elo. Elo ratings offer a standardized method to compare players' proficiency, dynamically updating based on their game outcomes. By analyzing the correlation between players' ages and their Elo ratings, we can gain valuable insights into how age impacts performance, identifying trends such as peak performance ages and the typical career lifespan of top players."
   ]
  },
  {
   "cell_type": "markdown",
   "id": "a8c4d380-3053-4e11-95b6-03353343f68c",
   "metadata": {},
   "source": [
    "<b>Code Overview</b> <br>\r\n",
    "The provided code performs an analysis of the correlation between chess players' ages and their Elo ratings. The process includes data preparation, visualization, correlation analysis, and polynomial regression to explore the relationship between age and performance."
   ]
  },
  {
   "cell_type": "markdown",
   "id": "086d8283-2c00-4cfc-95eb-77b84cdb4656",
   "metadata": {},
   "source": [
    "The data is read from a CSV file containing chess players' rankings from 1851 to 2001. The pd.read_csv function reads the data, handling potential encoding issues. The 'Age' column is converted to numeric, and rows with missing values in either 'Age' or 'Rating' are dropped to ensure clean data for analysis."
   ]
  },
  {
   "cell_type": "markdown",
   "id": "4023dd48-56d3-45a4-877c-6bf2cd3e3998",
   "metadata": {},
   "source": [
    "```Python\n",
    "# Correlation analysis\r\n",
    "correlation, _ = pearsonr(data_df['Age'], data_df['Rating'])\r\n",
    "print(f\"Correlation between age and Elo rating: {correlation:.2f})e> de>"
   ]
  },
  {
   "cell_type": "markdown",
   "id": "83550336-a0e7-4b4f-bf25-f991f865d543",
   "metadata": {},
   "source": [
    "Correlation between age and Elo rating: 0.02"
   ]
  },
  {
   "cell_type": "markdown",
   "id": "59fb018b-f25c-4aa6-a972-72e987c73c29",
   "metadata": {},
   "source": [
    "The Pearson correlation coefficient is calculated to quantify the strength and direction of the relationship between age and Elo rating. A correlation coefficient close to 0 suggests a weak or no linear relationship."
   ]
  },
  {
   "cell_type": "markdown",
   "id": "100de49e-44b9-4fd4-84ef-ce55b495c704",
   "metadata": {},
   "source": [
    "![](https://github.com/PastMatter/PR24MVDBACSAJR/blob/main/report_alem/peakPerformance-Alem.png?raw=true)"
   ]
  },
  {
   "cell_type": "markdown",
   "id": "772cbb3f-635a-4572-9195-b9f098ba9465",
   "metadata": {},
   "source": [
    "Polynomial regression is used to model the relationship between age and Elo rating. The PolynomialFeatures class from sklearn.preprocessing transforms the age data into polynomial features, and LinearRegression fits a polynomial model to the data. The predicted ratings are then plotted against the actual data, showing the fitted polynomial curve."
   ]
  },
  {
   "cell_type": "markdown",
   "id": "2dba70a0-8e08-4c85-aa88-f450e4d430a3",
   "metadata": {},
   "source": [
    "<b>Scripts and data used:</b> <br>\n",
    "[ELO studies](https://github.com/PastMatter/PR24MVDBACSAJR/tree/main/report_alem) <br>\n",
    "elo_studies.ipynb <br>\n",
    "ranking_chessplayers_1851_2001.csv"
   ]
  },
  {
   "cell_type": "markdown",
   "id": "59d9a6ec-56af-4f23-bea6-aa51c8d81488",
   "metadata": {},
   "source": [
    "# Cheaters in chess"
   ]
  },
  {
   "cell_type": "markdown",
   "id": "f0779842-b663-4cee-883a-c0bf898c4975",
   "metadata": {},
   "source": [
    "As our world becomes more and more competitive, so does the world of chess. For many it seems the easy way to just cheat.\n",
    "Either the old fashioned way with a microphone in the ear or by simply copying a machine.\n",
    "Cheating is evolving as are the ways of detecting it."
   ]
  },
  {
   "cell_type": "markdown",
   "id": "e570fddb-ec8d-41f9-a1ba-9d301e57da5a",
   "metadata": {},
   "source": [
    "<b>ANALYSIS OF ELO RANK GROWTH USING A Q-Q PLOT</b> <br>\n",
    "<br>\n",
    "I will try to find if in the dataset \"ranking_chessplayers_1851_2001.csv\" which consists of the changes in ELO\n",
    "over twenty years anyone's ELO has changes to such a degree that it would be an outlier in the data.\n",
    "For that I will use the Q-Q plot which shows us, if the data fits the distribution.\n",
    "\n",
    "As a general assumption I will set the growth rate threshhold at 50, which is the normal growth in ELO\n",
    "we can expect of high ranking players.\n",
    "\n",
    "With the Q-Q plot we can see if the values do indeed follow the way data is distributed in the dataset.\n",
    "Outliers would overperform the distribution and would we quickly visible."
   ]
  },
  {
   "cell_type": "markdown",
   "id": "d53e174b-01cb-4a31-8761-13fbfebd8b9d",
   "metadata": {},
   "source": [
    "![](https://github.com/PastMatter/PR24MVDBACSAJR/blob/main/report-Rozman/qqNormalDistribution.png?raw=true)"
   ]
  },
  {
   "cell_type": "markdown",
   "id": "d316f2b0-9232-4aac-a633-d1f2c26cba56",
   "metadata": {},
   "source": [
    "We can clearly see that the distribution isn't normal so, which would be an interesting implication.\r\n",
    "A normal distribution would mean that some players naturally just climb really fast way past the threshold of fifty points\r\n",
    "and some would fall quite quickly, but that isn't the case.\r\n",
    "We can try with an uniform distribution."
   ]
  },
  {
   "cell_type": "markdown",
   "id": "af5474ef-4f27-4583-bfcf-b9139703c086",
   "metadata": {},
   "source": [
    "![](https://github.com/PastMatter/PR24MVDBACSAJR/blob/main/report-Rozman/qqUniformDistribution.png?raw=true)"
   ]
  },
  {
   "cell_type": "markdown",
   "id": "dff224fb-ea57-41db-b265-ca3b0784ddba",
   "metadata": {},
   "source": [
    "It's quite interesting. An uniform distribution implies that the players from the data, which are of high ranking\r\n",
    "have an equal chance of gaining and loosing ELO and that noone was outside this bound, which shows great sportsmanship or\r\n",
    "a great ability to chear.\r\n",
    "We can conclude that highly rated players don't simply climb to their top-tier ranking quickly and then stay there, but\r\n",
    "that it's a slow and gradual process of continually and slowly grinding out their well deserved rankings."
   ]
  },
  {
   "cell_type": "markdown",
   "id": "acd135ff-64a4-4ada-b8b2-737973ca3c88",
   "metadata": {},
   "source": [
    "<b>Conclusion</b> <br>\n",
    "If you want to become a chess grandmaster that you have to play a lot of game and there are no shortcuts."
   ]
  },
  {
   "cell_type": "markdown",
   "id": "38cdfb97-87cf-4845-b0ec-7e86c9a78de7",
   "metadata": {},
   "source": [
    "<b>Scripts and data used</b> <br>\n",
    "[Cheaters in chess](https://github.com/PastMatter/PR24MVDBACSAJR/tree/main/outliersCheatersQQ) <br>\n",
    "outliersCheatersQQ.ipynb <br>\n",
    "ranking_chessplayers_1851_2001.csv"
   ]
  },
  {
   "cell_type": "markdown",
   "id": "a3946ee7-34ba-46dc-a0b5-e9c488535dff",
   "metadata": {},
   "source": [
    "# Socio-Economic Factors and Chess Performance"
   ]
  },
  {
   "cell_type": "markdown",
   "id": "30576ec0-1727-482a-8ed0-5c96925d5940",
   "metadata": {},
   "source": [
    "<b>Introduction</b> <br>\n",
    "This report explores the relationship between socio-economic factors and chess performance, focusing on the ratings of titled chess players (Grandmasters, International Masters, and Candidate Masters) across different countries. The analysis utilizes various socio-economic indicators, including GDP per capita, education enrollment rates, and happiness scores, to understand how these factors correlate with chess ratings and the number of titled players per capita.\n"
   ]
  },
  {
   "cell_type": "markdown",
   "id": "f631cdd0-e291-4e80-a6a9-4e5a9db8fe16",
   "metadata": {},
   "source": [
    "<b>Data Collection and Preparation</b> <br>\n",
    "\r\n",
    "The data used in this analysis was sourced from several datasetsalysis."
   ]
  },
  {
   "cell_type": "markdown",
   "id": "fbc72933-ff49-422a-beba-e695a2e72239",
   "metadata": {},
   "source": [
    "<b>GDP per Capita:</b> Extracted from the World Bank."
   ]
  },
  {
   "cell_type": "markdown",
   "id": "ea66448f-b1a8-4a07-b5eb-08a94ca7b150",
   "metadata": {},
   "source": [
    "<b>World Happiness Report:</b> Provided insights into the happiness scores and various socio-economic indicators for countries worldwide."
   ]
  },
  {
   "cell_type": "markdown",
   "id": "57c18b09-9948-4595-b680-9b134e87151b",
   "metadata": {},
   "source": [
    "<b>FIDE 2023 Chess Players:</b> Contained detailed information about titled chess players, including their ratings and countries."
   ]
  },
  {
   "cell_type": "markdown",
   "id": "7ce681d8-9200-4ee2-910f-7b5461e71a3c",
   "metadata": {},
   "source": [
    "Additional Socio-Economic Data: Included various socio-economic metrics from different sources.\n",
    "The data was merged and cleaned to ensure consistency and accuracy. Non-numeric values were converted, and missing values were handled appropriately. Titled players were grouped by country, and their total numbers were calculated for analysis."
   ]
  },
  {
   "cell_type": "markdown",
   "id": "2754c2aa-285e-43ec-be7c-bbb92865a082",
   "metadata": {},
   "source": [
    "<b>Correlation Analysis Between Chess Ratings and Socio-Economic Stats</b>"
   ]
  },
  {
   "cell_type": "markdown",
   "id": "7d18dfb2-1d19-4baa-9de5-479496d1cb4a",
   "metadata": {},
   "source": [
    "In this section, we examined the correlation between chess ratings (Standard, Rapid, Blitz) and various socio-economic factors. The data was normalized using MinMaxScaler to ensure consistent scaling across different metrics. A correlation matrix was computed to quantify the relationships.\n",
    "The heatmap visualization provided insights into the strength of these correlations. The analysis revealed that while most correlations were relatively weak, certain factors like health, economy, and family support showed a positive influence on chess ratings. Conversely, factors such as corruption had a negative impact on chess performance."
   ]
  },
  {
   "cell_type": "markdown",
   "id": "8553a9b7-4759-4a72-83b1-79922b4bd6b4",
   "metadata": {},
   "source": [
    "![](https://github.com/PastMatter/PR24MVDBACSAJR/blob/main/socio-economics%20vs%20chess/headmap-David.png?raw=true)"
   ]
  },
  {
   "cell_type": "markdown",
   "id": "84e4c6ec-18a9-459a-999f-e51b01b7dd8f",
   "metadata": {},
   "source": [
    "<b>Distribution of Titled Players per Country</b> <br>\n",
    "\n",
    "A bar plot was created to visualize the distribution of titled chess players (Grandmasters, International Masters, and Candidate Masters) across the top 30 countries. The countries were sorted in descending order based on the total number of titled players. This visualization highlighted the countries with the highest concentrations of chess talent.\r\n"
   ]
  },
  {
   "cell_type": "markdown",
   "id": "b95b2c53-75d0-40d2-9e70-6005902fcbdf",
   "metadata": {},
   "source": [
    "![](https://github.com/PastMatter/PR24MVDBACSAJR/blob/main/socio-economics%20vs%20chess/dist-David.png?raw=true)"
   ]
  },
  {
   "cell_type": "markdown",
   "id": "7b2e02a3-8d79-4f0c-b2ec-06e3daf6d9bd",
   "metadata": {},
   "source": [
    "<b>Clustering Analysis Based on Socio-Economic Profiles</b> <br>\n",
    "\n",
    "To identify groups of countries with similar socio-economic profiles, K-Means clustering was applied to the socio-economic data. Principal Component Analysis (PCA) was used to visualize the clusters. The analysis grouped countries into clusters based on GDP per capita, education enrollment rates, and happiness scores.\r\n",
    "\r\n",
    "The clusters were analyzed to understand their socio-economic characteristics. For example, Cluster 1 included high-income countries with high education enrollment and happiness scores, while Cluster 0 comprised low-income countries with lower education enrollment and moderate happiness scores.\r\n"
   ]
  },
  {
   "cell_type": "markdown",
   "id": "11bbf1b3-8a1b-425d-a880-d052d344444e",
   "metadata": {},
   "source": [
    "![](https://github.com/PastMatter/PR24MVDBACSAJR/blob/main/socio-economics%20vs%20chess/gdp-clusters-David.png?raw=true)"
   ]
  },
  {
   "cell_type": "markdown",
   "id": "e62f7af3-3732-4ed2-b9a3-d17fa9e452be",
   "metadata": {},
   "source": [
    "<b>Analysis of Titled Players per Capita and Socio-Economic Factors</b> <br>\n",
    "\n",
    "This section analyzed the relationship between the number of titled players per capita and various socio-economic factors. The data was processed to calculate the number of titled players per 100,000 people for each country. The correlation matrix showed how socio-economic factors like health, wealth, and social support influenced the development of titled chess players.\r\n"
   ]
  },
  {
   "cell_type": "markdown",
   "id": "c7ba5d5d-c83f-43c1-b5e2-f51e4f027b8b",
   "metadata": {},
   "source": [
    "![](https://github.com/PastMatter/PR24MVDBACSAJR/blob/main/socio-economics%20vs%20chess/clusters-David.png?raw=true)"
   ]
  },
  {
   "cell_type": "markdown",
   "id": "10fe16f7-99ae-4d12-9bc4-c849a14be831",
   "metadata": {},
   "source": [
    "<b>Happiness and Chess Performance</b> <br>\n",
    "\n",
    "The final analysis visualized the relationship between chess player ratings (Standard, Rapid, Blitz) and the Happiness Score for various countries. Scatter plots depicted the relationship between happiness scores and each type of chess rating. The analysis found that while there was no strong correlation, certain trends indicated that higher happiness scores could be associated with better chess performance.\n"
   ]
  },
  {
   "cell_type": "markdown",
   "id": "a4259344-4eb0-4cd0-8ab3-945646cf175a",
   "metadata": {},
   "source": [
    "![](https://github.com/PastMatter/PR24MVDBACSAJR/blob/main/socio-economics%20vs%20chess/happines-David.png?raw=true)"
   ]
  },
  {
   "cell_type": "markdown",
   "id": "df5a386c-78f6-4a1b-8b35-2c9415a742bd",
   "metadata": {},
   "source": [
    "<b>Conclusion</b> <br>\n",
    "The analysis provides a comprehensive understanding of how socio-economic factors impact chess performance and the distribution of titled players across countries. The findings suggest that while socio-economic conditions play a role, the development of chess talent is influenced by a complex interplay of various factors. Further research could explore additional socio-economic metrics to deepen the understanding of these relationships."
   ]
  },
  {
   "cell_type": "markdown",
   "id": "96dc17da-faf7-4d3a-b38f-b0a48e172772",
   "metadata": {},
   "source": [
    "<b>Scripts and data used:</b> <br>\n",
    "[Socio Economics VS Chess](https://github.com/PastMatter/PR24MVDBACSAJR/tree/main/socio-economics%20vs%20chess) <br>\n",
    "soc-eco-che.ipynb"
   ]
  },
  {
   "cell_type": "markdown",
   "id": "f9ce3e72-95f6-4dd2-a27b-7092a4e0104e",
   "metadata": {},
   "source": [
    "# Women in chess"
   ]
  },
  {
   "cell_type": "markdown",
   "id": "66ad8c7e-f9b3-48a7-a3d4-64ba3b38af85",
   "metadata": {},
   "source": [
    "Chess has long been regarded as a game that challenges intellect, strategy, and mental fortitude. Historically dominated by male players, the realm of competitive chess has seen a growing number of formidable female players making their mark on the global stage. This analysis delves into the historical trends of top female chess players, exploring how their ratings have evolved over time and comparing the initial performance of different generations. By examining these patterns, we gain insights into the progress and ongoing challenges within women's chess, highlighting the dedication and skill of these exceptional players as they strive for excellence in a traditionally male-dominated sport.\r\n"
   ]
  },
  {
   "cell_type": "markdown",
   "id": "4d66b281-3357-4233-88dc-94d3e8e13b4e",
   "metadata": {},
   "source": [
    "![](https://github.com/PastMatter/PR24MVDBACSAJR/blob/main/women%20in%20chess/rtg-Stefanija.png?raw=true)"
   ]
  },
  {
   "cell_type": "markdown",
   "id": "f57ae99c-4cd9-46f9-b0a4-dcc14787a84d",
   "metadata": {},
   "source": [
    "The graph shows a general decline in average ratings for players born in the 2000s, possibly indicating fewer high-performing players or younger players not yet at their peak, which is the age of 41. Early 20th century data reveals high variations, particularly in Standard ratings, likely due to a few exceptional players or incomplete data. From the 1930s to the 1970s, ratings are stable across all formats, with Standard ratings consistently higher than Rapid and Blitz. Post-1980s, there's a noticeable decline, especially in Blitz ratings, suggesting fewer top female players or incomplete data for these birth years."
   ]
  },
  {
   "cell_type": "markdown",
   "id": "96178511-0e61-4007-ac07-b840ca2fe53a",
   "metadata": {},
   "source": [
    "![](https://github.com/PastMatter/PR24MVDBACSAJR/blob/main/women%20in%20chess/boxplot-Stefanija.png?raw=true)"
   ]
  },
  {
   "cell_type": "markdown",
   "id": "fba798a2-2b82-4a2b-9063-385bcebbcfa3",
   "metadata": {},
   "source": [
    "The boxplot compares the initial Standard ratings of female chess players across different generations. It shows that median ratings have remained relatively stable from the 1960s through the 2000s, with slight variations. The interquartile range (IQR) and the spread of outliers indicate a consistent level of top performers in each generation, although the 1980s and 1990s show a slightly wider IQR, suggesting more variability in initial ratings during these decades. The presence of outliers above the 2400 rating mark across all generations highlights a number of exceptional players consistently emerging over time. However, the 2000s exhibit a slightly lower median and IQR, suggesting that younger players might still be developing their skills."
   ]
  },
  {
   "cell_type": "markdown",
   "id": "554c4e73-32fd-479c-bd95-bd063added92",
   "metadata": {},
   "source": [
    "<b>Distribution of ratings</b>"
   ]
  },
  {
   "cell_type": "markdown",
   "id": "038ece2b-3636-4c12-ae21-708dce694f9a",
   "metadata": {},
   "source": [
    "![](https://github.com/PastMatter/PR24MVDBACSAJR/blob/main/women%20in%20chess/rtg-dist-Stefanija.png?raw=true)"
   ]
  },
  {
   "cell_type": "markdown",
   "id": "86f44bb6-b7c1-4699-a2db-9e94835ec9b8",
   "metadata": {},
   "source": [
    "The presented histograms provide a detailed look at the distributions of Standard, Rapid, and Blitz ratings among top female chess players, as well as the distribution of chess titles held by these players. The Standard Rating Distribution shows a right-skewed distribution with a peak around 2000, indicating that most players have Standard ratings between 1800 and 2200, with fewer players reaching the higher echelons above 2400. In contrast, the Rapid and Blitz Rating Distributions exhibit a more bell-shaped curve, centered around 1900 and 1800 respectively, suggesting a more typical distribution with fewer extreme outliers.\r\n",
    "\r\n",
    "The Title Distribution highlights the prevalence of different chess titles among female players. The most common titles are Woman FIDE Master (WFM) and Woman International Master (WIM), reflecting a substantial number of players achieving significant but not top-tier titles. There are fewer Grandmasters (GM) and International Masters (IM), which are the highest titles in chess, indicating the challenges women face in reaching the pinnacle of chess excellence. The distributions provide a comprehensive overview of the competitive landscape, illustrating the concentration of ratings and titles, and highlighting the areas where female players excel and where there might be opportunities for further advancement."
   ]
  },
  {
   "cell_type": "markdown",
   "id": "804b9ab0-10c7-410f-9fb8-d22856159a38",
   "metadata": {},
   "source": [
    "![](https://github.com/PastMatter/PR24MVDBACSAJR/blob/main/women%20in%20chess/rtg-comparison-Stefanija.png?raw=true)"
   ]
  },
  {
   "cell_type": "markdown",
   "id": "200e2061-ba66-4a55-b8ea-6909ad668049",
   "metadata": {},
   "source": [
    "The comparison of top female and male chess players in Standard, Rapid, and Blitz categories reveals the dominance of key figures like Judit Polgar and Hou Yifan among women, and Magnus Carlsen and Hikaru Nakamura among men. Polgar, even in retirement, and Yifan consistently rank at the top, while Carlsen leads in Standard and Rapid, and Nakamura excels in Blitz. This highlights the exceptional talent and skill in both genders, though notable rating gaps between male and female players suggest ongoing discussions about gender disparity in competitive chess."
   ]
  },
  {
   "cell_type": "markdown",
   "id": "d827e384-ceb3-4a97-9cdd-a7fbfc0f4f80",
   "metadata": {},
   "source": [
    "<b>Scripts and data used</b> <br>\n",
    "\n",
    "[Women in chess](https://github.com/PastMatter/PR24MVDBACSAJR/tree/main/women%20in%20chess) <br>\n",
    "distribution_of_ratings.ipynb <br>\n",
    "averages_across_the_years.ipynb<br>\n",
    "female_distribution.ipynb<br>\n",
    "male_and_female_top_players.ipynb<br>"
   ]
  }
 ],
 "metadata": {
  "kernelspec": {
   "display_name": "Python 3 (ipykernel)",
   "language": "python",
   "name": "python3"
  },
  "language_info": {
   "codemirror_mode": {
    "name": "ipython",
    "version": 3
   },
   "file_extension": ".py",
   "mimetype": "text/x-python",
   "name": "python",
   "nbconvert_exporter": "python",
   "pygments_lexer": "ipython3",
   "version": "3.11.7"
  }
 },
 "nbformat": 4,
 "nbformat_minor": 5
}
